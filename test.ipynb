{
 "cells": [
  {
   "cell_type": "code",
   "execution_count": 3,
   "id": "10adf3bb",
   "metadata": {},
   "outputs": [],
   "source": [
    "import librosa\n",
    "import os\n",
    "import numpy as np\n",
    "import scipy.signal as sp"
   ]
  },
  {
   "cell_type": "code",
   "execution_count": 6,
   "id": "ea0d0202",
   "metadata": {},
   "outputs": [],
   "source": [
    "# just get the bpm (tempo) first which we will need\n",
    "def get_bpm(path):\n",
    "    y, sr = librosa.load(path)\n",
    "    \n",
    "    tempo, beat_frames = librosa.beat.beat_track(y=y, sr=sr)\n",
    "    \n",
    "    return tempo, beat_frames, sr"
   ]
  },
  {
   "cell_type": "code",
   "execution_count": 28,
   "id": "750546e1",
   "metadata": {},
   "outputs": [],
   "source": [
    "KS_MAJOR = np.array([6.35, 2.23, 3.48, 2.33, 4.38, 4.09, 2.52, 5.19, 2.39, 3.66, 2.29, 2.88])\n",
    "KS_MINOR = np.array([6.33, 2.68, 3.52, 5.38, 2.60, 3.53, 2.54, 4.75, 3.98, 2.69, 3.34, 3.17])\n",
    "\n",
    "KS_MAJOR = KS_MAJOR / KS_MAJOR.sum()\n",
    "KS_MINOR = KS_MINOR / KS_MINOR.sum()\n",
    "\n",
    "NOTE_NAMES = ['C', 'C#', 'D', 'D#', 'E', 'F', 'F#', 'G', 'G#', 'A', 'A#', 'B']\n",
    "\n",
    "def detect_key_librosa(path, use_cqt=True):\n",
    "    y, sr = librosa.load(path, sr=None, mono=True)\n",
    "    # Compute chroma (CQT chroma is often robust for music)\n",
    "    if use_cqt:\n",
    "        chroma = librosa.feature.chroma_cqt(y=y, sr=sr)\n",
    "    else:\n",
    "        chroma = librosa.feature.chroma_stft(y=y, sr=sr)\n",
    "    chroma_mean = chroma.mean(axis=1)  # 12-d vector\n",
    "\n",
    "    # normalize\n",
    "    if chroma_mean.sum() == 0:\n",
    "        return None\n",
    "    chroma_norm = chroma_mean / chroma_mean.sum()\n",
    "\n",
    "    best = {'score': -1, 'tonic': None, 'mode': None}\n",
    "    # rotate templates for 12 possible tonics\n",
    "    for tonic in range(12):\n",
    "        # roll KS to align tonic\n",
    "        major_template = np.roll(KS_MAJOR, tonic)\n",
    "        minor_template = np.roll(KS_MINOR, tonic)\n",
    "\n",
    "        major_score = np.dot(chroma_norm, major_template)\n",
    "        minor_score = np.dot(chroma_norm, minor_template)\n",
    "\n",
    "        if major_score > best['score']:\n",
    "            best = {'score': major_score, 'tonic': tonic, 'mode': 'major'}\n",
    "        if minor_score > best['score']:\n",
    "            best = {'score': minor_score, 'tonic': tonic, 'mode': 'minor'}\n",
    "\n",
    "    tonic_name = NOTE_NAMES[best['tonic']]\n",
    "    return f\"{tonic_name} {best['mode']}\", best['score']"
   ]
  },
  {
   "cell_type": "code",
   "execution_count": 7,
   "id": "71eed97f",
   "metadata": {},
   "outputs": [
    {
     "name": "stdout",
     "output_type": "stream",
     "text": [
      "Tempo: 123\n"
     ]
    }
   ],
   "source": [
    "base_dir = 'Music/wav_files'\n",
    "song = 'wakemeup-avicii.wav'\n",
    "path = os.path.join(base_dir, song)\n",
    "\n",
    "tempo, beat_frames, sr = get_bpm(path)\n",
    "\n",
    "print(\"Tempo:\", int(tempo[0])) # this matches what I saw online for this song so thats good"
   ]
  },
  {
   "cell_type": "code",
   "execution_count": 8,
   "id": "2ad5800c",
   "metadata": {},
   "outputs": [],
   "source": [
    "beat_times = librosa.frames_to_time(beat_frames, sr=sr)"
   ]
  },
  {
   "cell_type": "code",
   "execution_count": 14,
   "id": "161fba79",
   "metadata": {},
   "outputs": [
    {
     "data": {
      "text/plain": [
       "(493,)"
      ]
     },
     "execution_count": 14,
     "metadata": {},
     "output_type": "execute_result"
    }
   ],
   "source": [
    "beat_times.shape\n",
    "# this makes sense since the song is 4 mins long @ 123 BPM"
   ]
  },
  {
   "cell_type": "code",
   "execution_count": null,
   "id": "99bd5393",
   "metadata": {},
   "outputs": [],
   "source": [
    "ex = {1:\"A\", 1.0:\"B\"}"
   ]
  },
  {
   "cell_type": "code",
   "execution_count": null,
   "id": "6c31a027",
   "metadata": {},
   "outputs": [],
   "source": [
    "key, score = detect_key_librosa(path)\n",
    "print(key, score)"
   ]
  }
 ],
 "metadata": {
  "kernelspec": {
   "display_name": "venv",
   "language": "python",
   "name": "python3"
  },
  "language_info": {
   "codemirror_mode": {
    "name": "ipython",
    "version": 3
   },
   "file_extension": ".py",
   "mimetype": "text/x-python",
   "name": "python",
   "nbconvert_exporter": "python",
   "pygments_lexer": "ipython3",
   "version": "3.13.7"
  }
 },
 "nbformat": 4,
 "nbformat_minor": 5
}
