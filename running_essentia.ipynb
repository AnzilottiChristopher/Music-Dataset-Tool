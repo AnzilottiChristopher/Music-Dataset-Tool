{
  "nbformat": 4,
  "nbformat_minor": 0,
  "metadata": {
    "colab": {
      "provenance": []
    },
    "kernelspec": {
      "name": "python3",
      "display_name": "Python 3"
    },
    "language_info": {
      "name": "python"
    }
  },
  "cells": [
    {
      "cell_type": "code",
      "execution_count": null,
      "metadata": {
        "colab": {
          "base_uri": "https://localhost:8080/"
        },
        "id": "PMILr9keiZ8R",
        "outputId": "f8ef70f3-1fe0-4a0a-9c85-13845a3c0261"
      },
      "outputs": [
        {
          "output_type": "stream",
          "name": "stdout",
          "text": [
            "Collecting essentia\n",
            "  Downloading essentia-2.1b6.dev1389-cp312-cp312-manylinux_2_17_x86_64.manylinux2014_x86_64.whl.metadata (2.0 kB)\n",
            "Requirement already satisfied: numpy>=1.25 in /usr/local/lib/python3.12/dist-packages (from essentia) (2.0.2)\n",
            "Requirement already satisfied: pyyaml in /usr/local/lib/python3.12/dist-packages (from essentia) (6.0.3)\n",
            "Requirement already satisfied: six in /usr/local/lib/python3.12/dist-packages (from essentia) (1.17.0)\n",
            "Downloading essentia-2.1b6.dev1389-cp312-cp312-manylinux_2_17_x86_64.manylinux2014_x86_64.whl (13.8 MB)\n",
            "\u001b[2K   \u001b[90m━━━━━━━━━━━━━━━━━━━━━━━━━━━━━━━━━━━━━━━━\u001b[0m \u001b[32m13.8/13.8 MB\u001b[0m \u001b[31m74.0 MB/s\u001b[0m eta \u001b[36m0:00:00\u001b[0m\n",
            "\u001b[?25hInstalling collected packages: essentia\n",
            "Successfully installed essentia-2.1b6.dev1389\n"
          ]
        }
      ],
      "source": [
        "!pip install essentia"
      ]
    },
    {
      "cell_type": "code",
      "source": [
        "import json\n",
        "import essentia.standard as es\n",
        "import os\n",
        "import essentia"
      ],
      "metadata": {
        "id": "OfXVjtHBicvb"
      },
      "execution_count": null,
      "outputs": []
    },
    {
      "cell_type": "code",
      "source": [
        "!pwd"
      ],
      "metadata": {
        "colab": {
          "base_uri": "https://localhost:8080/"
        },
        "id": "exMQL_0Xikql",
        "outputId": "5b6a3c62-688d-4a6f-f734-f4ac7f9e833d"
      },
      "execution_count": null,
      "outputs": [
        {
          "output_type": "stream",
          "name": "stdout",
          "text": [
            "/content\n"
          ]
        }
      ]
    },
    {
      "cell_type": "code",
      "source": [
        "!ls"
      ],
      "metadata": {
        "colab": {
          "base_uri": "https://localhost:8080/"
        },
        "id": "5tJxse0niu2K",
        "outputId": "360b18f3-9a62-4d17-a6ff-84ad2977380e"
      },
      "execution_count": null,
      "outputs": [
        {
          "output_type": "stream",
          "name": "stdout",
          "text": [
            "music  sample_data\n"
          ]
        }
      ]
    },
    {
      "cell_type": "code",
      "source": [
        "def extract_transition_features(path):\n",
        "    def pool_get(pool, name, default=None):\n",
        "        if pool is None:\n",
        "            return default\n",
        "        try:\n",
        "            return pool[name]\n",
        "        except (KeyError, TypeError):\n",
        "            return default\n",
        "\n",
        "    def to_list(x):\n",
        "        if x is None:\n",
        "            return None\n",
        "        # cannot understand these essentia vectors\n",
        "        try:\n",
        "            return [float(v) for v in x]\n",
        "        except TypeError:\n",
        "            return None\n",
        "\n",
        "    aggr_pool = None\n",
        "    frames_pool = None\n",
        "    try:\n",
        "        me = es.MusicExtractor(\n",
        "            lowlevelStats=['mean', 'stdev'],\n",
        "            rhythmStats=['mean'],\n",
        "            tonalStats=['mean']\n",
        "        )\n",
        "        aggr_pool, frames_pool = me(path)\n",
        "    except Exception:\n",
        "        aggr_pool = None\n",
        "        frames_pool = None\n",
        "\n",
        "    bpm = pool_get(aggr_pool, 'rhythm.bpm')\n",
        "    beat_times = pool_get(aggr_pool, 'rhythm.beats_position')\n",
        "    if beat_times is None:\n",
        "        beat_times = pool_get(frames_pool, 'rhythm.beats_position')\n",
        "    beat_times = to_list(beat_times)\n",
        "\n",
        "    key = pool_get(aggr_pool, 'tonal.key_key')\n",
        "    scale = pool_get(aggr_pool, 'tonal.key_scale')\n",
        "    key_strength = pool_get(aggr_pool, 'tonal.key_strength')\n",
        "\n",
        "    audio = es.MonoLoader(filename=path)()\n",
        "\n",
        "    # should implement fall backs here, not sure why this wont work\n",
        "    if key is None or scale is None or key_strength is None:\n",
        "        try:\n",
        "            k, s, ks = es.KeyExtractor()(audio)\n",
        "            key, scale, key_strength = k, s, float(ks)\n",
        "        except Exception:\n",
        "            pass\n",
        "\n",
        "    if bpm is None or beat_times is None or len(beat_times) == 0:\n",
        "        try:\n",
        "            r_out = es.RhythmExtractor2013(method='multifeature')(audio)\n",
        "            bpm = float(r_out[0])\n",
        "            beat_times = list(map(float, r_out[1])) if len(r_out) > 1 else []\n",
        "        except Exception:\n",
        "            bpm = None\n",
        "            beat_times = []\n",
        "\n",
        "    last_4_phrases = []\n",
        "    if beat_times:\n",
        "        phrase_boundaries = beat_times[::32]  # every 32nd beat as the start of a phrase\n",
        "        if phrase_boundaries:\n",
        "            formatted = [f\"{int(s)//60:02d}:{int(s)%60:02d}\" for s in phrase_boundaries]\n",
        "            last_4_phrases = formatted[-4:]\n",
        "            first_4_phrases = formatted[:4]\n",
        "\n",
        "    song_name = path.split('/')[-1]\n",
        "    return { 'song_name' : song_name, 'features': {\n",
        "        \"bpm\": float(bpm) if bpm is not None else None,\n",
        "        \"key\": key,\n",
        "        \"scale\": scale,\n",
        "        \"key_strength\": float(key_strength) if key_strength is not None else None,\n",
        "        \"last_phrase_boundaries\": last_4_phrases,\n",
        "        'first_phrase_boundaries': first_4_phrases}\n",
        "    }"
      ],
      "metadata": {
        "id": "uRBzX3yNjIR7"
      },
      "execution_count": null,
      "outputs": []
    },
    {
      "cell_type": "code",
      "source": [
        "results = extract_transition_features(\"music/stargazing-kygo.wav\")"
      ],
      "metadata": {
        "id": "P-7tbyP4jhrz"
      },
      "execution_count": null,
      "outputs": []
    },
    {
      "cell_type": "code",
      "source": [
        "results"
      ],
      "metadata": {
        "colab": {
          "base_uri": "https://localhost:8080/"
        },
        "id": "HObr8gbFjoum",
        "outputId": "560c11f9-29d3-4d39-9a3b-090753658471"
      },
      "execution_count": null,
      "outputs": [
        {
          "output_type": "execute_result",
          "data": {
            "text/plain": [
              "{'song_name': 'stargazing-kygo.wav',\n",
              " 'features': {'bpm': 98.84703826904297,\n",
              "  'key': 'F',\n",
              "  'scale': 'major',\n",
              "  'key_strength': 0.9270086884498596,\n",
              "  'last_phrase_boundaries': ['02:49', '03:08', '03:27', '03:47'],\n",
              "  'first_phrase_boundaries': ['00:00', '00:17', '00:34', '00:52']}}"
            ]
          },
          "metadata": {},
          "execution_count": 51
        }
      ]
    },
    {
      "cell_type": "code",
      "source": [
        "# now we can write to a json file\n",
        "path = \"music\"\n",
        "results = []\n",
        "\n",
        "for filename in os.listdir(path):\n",
        "  if filename.endswith(\".wav\"):\n",
        "    file_path = os.path.join(path, filename)\n",
        "    output = extract_transition_features(file_path)\n",
        "    results.append(output)\n",
        "\n",
        "with open('results.json', 'w') as f:\n",
        "  json.dump(results, f, indent=4)\n"
      ],
      "metadata": {
        "id": "pveSBK6mrmFW"
      },
      "execution_count": null,
      "outputs": []
    },
    {
      "cell_type": "code",
      "source": [
        "# GPT-5 attempt to improve\n",
        "from typing import Dict, List, Any, Tuple\n",
        "import math\n",
        "\n",
        "import numpy as np\n",
        "import essentia\n",
        "import essentia.standard as es\n",
        "\n",
        "\n",
        "def _pool_get(pool, name, default=None):\n",
        "    if pool is None:\n",
        "        return default\n",
        "    try:\n",
        "        return pool[name]\n",
        "    except Exception:\n",
        "        return default\n",
        "\n",
        "\n",
        "def _load_audio(path: str, sample_rate: int = 44100):\n",
        "    \"\"\"Load mono audio with a fixed sample rate (for consistent analysis).\"\"\"\n",
        "    return es.MonoLoader(filename=path, sampleRate=sample_rate)(), sample_rate\n",
        "\n",
        "\n",
        "def _beats_and_bpm(audio) -> Tuple[float, List[float]]:\n",
        "    \"\"\"\n",
        "    Robust beat+tempo estimator.\n",
        "    Returns (bpm, beat_times).\n",
        "    \"\"\"\n",
        "    # RhythmExtractor2013 is strong for EDM\n",
        "    out = es.RhythmExtractor2013(method=\"multifeature\")(audio)\n",
        "    # Typical order: bpm, beats, confidence, estimates, intervals (varies by build)\n",
        "    bpm = out[0]\n",
        "    beats = out[1] if len(out) > 1 else []\n",
        "    return float(bpm), list(map(float, beats))\n",
        "\n",
        "\n",
        "def _downbeats(audio) -> List[float]:\n",
        "    \"\"\"\n",
        "    Try to get true downbeats. If it fails (builds can differ), return [] and caller will fall back.\n",
        "    \"\"\"\n",
        "    try:\n",
        "        db = es.DownbeatTracker(method=\"dbn\")\n",
        "        db_out = db(audio)\n",
        "        # Different builds return different shapes; handle defensively.\n",
        "        # Common: (times, beat_indices) where beat_indices in {1..4} for 4/4\n",
        "        # We'll interpret \"beat index == 1\" as downbeat (bar start).\n",
        "        if isinstance(db_out, tuple) and len(db_out) >= 2:\n",
        "            times, beat_positions = db_out[0], db_out[1]\n",
        "            times = list(map(float, times))\n",
        "            beat_positions = list(map(int, beat_positions))\n",
        "            return [t for t, b in zip(times, beat_positions) if b == 1]\n",
        "        # Some builds may already give just downbeat times:\n",
        "        if isinstance(db_out, (list, np.ndarray)) and len(db_out) and np.ndim(db_out) == 1:\n",
        "            return list(map(float, db_out))\n",
        "    except Exception:\n",
        "        pass\n",
        "    return []\n",
        "\n",
        "\n",
        "def _bars_from_beats(beat_times: List[float], assumed_beats_per_bar: int = 4) -> List[float]:\n",
        "    \"\"\"\n",
        "    Fallback bar starts by assuming 4/4 and using every 4th beat as a bar boundary.\n",
        "    \"\"\"\n",
        "    if not beat_times:\n",
        "        return []\n",
        "    return [beat_times[i] for i in range(0, len(beat_times), assumed_beats_per_bar)]\n",
        "\n",
        "\n",
        "def _phrases_from_bars(bar_times: List[float], bars_per_phrase: int = 8) -> List[float]:\n",
        "    \"\"\"\n",
        "    Phrase boundary candidates from bar starts (8 bars default).\n",
        "    Returns absolute timestamps for each phrase start.\n",
        "    \"\"\"\n",
        "    if not bar_times:\n",
        "        return []\n",
        "    return [bar_times[i] for i in range(0, len(bar_times), bars_per_phrase)]\n",
        "\n",
        "\n",
        "def _rms_profile(audio: np.ndarray, sr: int, frame_size: int = 2048, hop_size: int = 512):\n",
        "    \"\"\"\n",
        "    Compute RMS (energy) envelope over time.\n",
        "    Returns (times, rms_values).\n",
        "    \"\"\"\n",
        "    window = es.Windowing(type=\"hann\")\n",
        "    rms_alg = es.RMS()\n",
        "\n",
        "    rms_vals = []\n",
        "    # FrameGenerator yields frames of length frame_size with hop hop_size\n",
        "    for frame in es.FrameGenerator(audio, frameSize=frame_size, hopSize=hop_size, startFromZero=True):\n",
        "        rms_vals.append(float(rms_alg(window(frame))))\n",
        "\n",
        "    rms_vals = np.asarray(rms_vals, dtype=np.float32)\n",
        "    times = np.arange(len(rms_vals), dtype=np.float32) * (hop_size / float(sr))\n",
        "    return times, rms_vals\n",
        "\n",
        "\n",
        "def _score_boundaries_by_energy(boundary_times: List[float],\n",
        "                                env_times: np.ndarray,\n",
        "                                env_vals: np.ndarray,\n",
        "                                pre_window_s: float = 1.0,\n",
        "                                post_window_s: float = 1.0) -> List[float]:\n",
        "    \"\"\"\n",
        "    Score each boundary by mean RMS(Post) - mean RMS(Pre).\n",
        "    We want higher energy after a boundary (drop/entry), typical for strong phrase starts in EDM.\n",
        "    \"\"\"\n",
        "    if len(boundary_times) == 0 or len(env_times) == 0:\n",
        "        return [0.0] * len(boundary_times)\n",
        "\n",
        "    hop_dt = float(env_times[1] - env_times[0]) if len(env_times) > 1 else 0.01\n",
        "\n",
        "    scores = []\n",
        "    for t in boundary_times:\n",
        "        idx = int(np.searchsorted(env_times, t))\n",
        "        n_pre = max(1, int(pre_window_s / hop_dt))\n",
        "        n_post = max(1, int(post_window_s / hop_dt))\n",
        "\n",
        "        pre_start = max(0, idx - n_pre)\n",
        "        pre_end = max(pre_start + 1, idx)\n",
        "        post_start = idx\n",
        "        post_end = min(len(env_vals), idx + n_post)\n",
        "\n",
        "        if pre_end <= pre_start or post_end <= post_start:\n",
        "            scores.append(0.0)\n",
        "            continue\n",
        "\n",
        "        pre_mean = float(np.mean(env_vals[pre_start:pre_end]))\n",
        "        post_mean = float(np.mean(env_vals[post_start:post_end]))\n",
        "        scores.append(max(0.0, post_mean - pre_mean))  # clamp to [0, inf)\n",
        "    return scores\n",
        "\n",
        "\n",
        "def _normalize_scores(scores: List[float]) -> List[float]:\n",
        "    if not scores:\n",
        "        return scores\n",
        "    mx = max(scores)\n",
        "    if mx <= 1e-12:\n",
        "        return [0.0] * len(scores)\n",
        "    return [float(s / mx) for s in scores]\n",
        "\n",
        "\n",
        "def extract_transition_features_advanced(path: str,\n",
        "                                         bars_per_phrase: int = 8,\n",
        "                                         return_n_last: int = 4,\n",
        "                                         hybrid_mode: bool = True) -> Dict[str, Any]:\n",
        "    \"\"\"\n",
        "    Hybrid phrase detection:\n",
        "      - Try true downbeats → bars → 8-bar phrases\n",
        "      - Score phrase boundaries by energy delta (RMS)\n",
        "      - If downbeats fail or signal is weak, fall back to a strict 8-bar grid from beats\n",
        "\n",
        "    Returns:\n",
        "      {\n",
        "        \"bpm\": float|None,\n",
        "        \"key\": str|None,\n",
        "        \"scale\": str|None,\n",
        "        \"key_strength\": float|None,\n",
        "        \"last_phrase_boundaries\": List[float],   # last N phrase starts, ascending\n",
        "        \"phrase_candidates\": List[{\"time\": float, \"score\": float, \"source\": \"downbeat+energy\"|\"grid-fallback\"}]\n",
        "      }\n",
        "    \"\"\"\n",
        "    # ---------- High-level try (MusicExtractor) ----------\n",
        "    features_pool = None\n",
        "    try:\n",
        "        me = es.MusicExtractor(\n",
        "            lowlevelStats=['mean', 'stdev'],\n",
        "            rhythmStats=['mean'],\n",
        "            tonalStats=['mean']\n",
        "        )\n",
        "        features_pool = me(path)  # single Pool return\n",
        "    except Exception:\n",
        "        features_pool = None\n",
        "\n",
        "    bpm = _pool_get(features_pool, 'rhythm.bpm')\n",
        "    beat_times = _pool_get(features_pool, 'rhythm.beats_position')\n",
        "    key = _pool_get(features_pool, 'tonal.key_key')\n",
        "    scale = _pool_get(features_pool, 'tonal.key_scale')\n",
        "    key_strength = _pool_get(features_pool, 'tonal.key_strength')\n",
        "\n",
        "    # ---------- Audio & fallbacks ----------\n",
        "    audio, sr = _load_audio(path, sample_rate=44100)\n",
        "\n",
        "    if key is None or scale is None or key_strength is None:\n",
        "        try:\n",
        "            k, s, ks = es.KeyExtractor()(audio)\n",
        "            key, scale, key_strength = k, s, float(ks)\n",
        "        except Exception:\n",
        "            key = key or None\n",
        "            scale = scale or None\n",
        "            key_strength = key_strength or None\n",
        "\n",
        "    if bpm is None or beat_times is None or len(beat_times) == 0:\n",
        "        try:\n",
        "            bpm, beat_times = _beats_and_bpm(audio)\n",
        "        except Exception:\n",
        "            bpm, beat_times = None, []\n",
        "\n",
        "    # ---------- Downbeat → bars → phrase candidates ----------\n",
        "    phrase_candidates: List[float] = []\n",
        "    source = \"downbeat+energy\"\n",
        "\n",
        "    downbeat_times = _downbeats(audio) if hybrid_mode else []\n",
        "    if downbeat_times:\n",
        "        bars = downbeat_times[:]  # bar starts\n",
        "    else:\n",
        "        # fallback bars from beats (assume 4/4)\n",
        "        bars = _bars_from_beats(beat_times, assumed_beats_per_bar=4)\n",
        "        source = \"grid-fallback\"\n",
        "\n",
        "    phrase_candidates = _phrases_from_bars(bars, bars_per_phrase=bars_per_phrase)\n",
        "\n",
        "    # ---------- Score candidates by energy delta ----------\n",
        "    env_t, env_v = _rms_profile(audio, sr, frame_size=2048, hop_size=512)\n",
        "    raw_scores = _score_boundaries_by_energy(phrase_candidates, env_t, env_v,\n",
        "                                             pre_window_s=1.0, post_window_s=1.0)\n",
        "    scores = _normalize_scores(raw_scores)\n",
        "\n",
        "    # If scores are all ~0 and we were in 'downbeat+energy', switch to strict grid fallback\n",
        "    if hybrid_mode and source == \"downbeat+energy\" and (not scores or max(scores) < 0.15):\n",
        "        bars_fb = _bars_from_beats(beat_times, assumed_beats_per_bar=4)\n",
        "        phrase_candidates = _phrases_from_bars(bars_fb, bars_per_phrase=bars_per_phrase)\n",
        "        raw_scores = _score_boundaries_by_energy(phrase_candidates, env_t, env_v,\n",
        "                                                 pre_window_s=1.0, post_window_s=1.0)\n",
        "        scores = _normalize_scores(raw_scores)\n",
        "        source = \"grid-fallback\"\n",
        "\n",
        "    # ---------- Assemble outputs ----------\n",
        "    # Ascending times already; take the last N phrase starts to mimic your previous API\n",
        "    last_phrase_boundaries = phrase_candidates[-return_n_last:] if phrase_candidates else []\n",
        "    formatted = [f\"{int(s)//60:02d}:{int(s)%60:02d}\" for s in last_phrase_boundaries]\n",
        "\n",
        "    return {\n",
        "        \"bpm\": float(bpm) if bpm is not None else None,\n",
        "        \"key\": key,\n",
        "        \"scale\": scale,\n",
        "        \"key_strength\": float(key_strength) if key_strength is not None else None,\n",
        "        \"last_phrase_boundaries\": formatted,\n",
        "        \"phrase_candidates\": [\n",
        "            {\"time\": float(t), \"score\": float(s), \"source\": source}\n",
        "            for t, s in zip(phrase_candidates, scores)\n",
        "        ],\n",
        "    }\n"
      ],
      "metadata": {
        "id": "Kp6EXFm9mAJx"
      },
      "execution_count": null,
      "outputs": []
    },
    {
      "cell_type": "code",
      "source": [
        "results = extract_transition_features_advanced(\"music/stargazing-kygo.wav\")"
      ],
      "metadata": {
        "id": "ptxguT8Bp6Rr"
      },
      "execution_count": null,
      "outputs": []
    },
    {
      "cell_type": "code",
      "source": [
        "results"
      ],
      "metadata": {
        "colab": {
          "base_uri": "https://localhost:8080/"
        },
        "id": "jyOGZirpqGXb",
        "outputId": "cb683b83-766f-4b93-f80b-dba741de493a"
      },
      "execution_count": null,
      "outputs": [
        {
          "output_type": "execute_result",
          "data": {
            "text/plain": [
              "{'bpm': 98.60183715820312,\n",
              " 'key': 'F',\n",
              " 'scale': 'major',\n",
              " 'key_strength': 0.9270086884498596,\n",
              " 'last_phrase_boundaries': ['02:56', '03:15', '03:35', '03:54'],\n",
              " 'phrase_candidates': [{'time': 0.6037188172340393,\n",
              "   'score': 0.025312170840652095,\n",
              "   'source': 'grid-fallback'},\n",
              "  {'time': 20.09687042236328, 'score': 0.0, 'source': 'grid-fallback'},\n",
              "  {'time': 39.47392272949219, 'score': 0.0, 'source': 'grid-fallback'},\n",
              "  {'time': 58.86258316040039, 'score': 0.0, 'source': 'grid-fallback'},\n",
              "  {'time': 78.48344421386719, 'score': 1.0, 'source': 'grid-fallback'},\n",
              "  {'time': 98.266845703125, 'score': 0.0, 'source': 'grid-fallback'},\n",
              "  {'time': 117.63228607177734,\n",
              "   'score': 0.7300197976596308,\n",
              "   'source': 'grid-fallback'},\n",
              "  {'time': 137.04417419433594,\n",
              "   'score': 0.7841578129717378,\n",
              "   'source': 'grid-fallback'},\n",
              "  {'time': 156.43283081054688,\n",
              "   'score': 0.5706976032231029,\n",
              "   'source': 'grid-fallback'},\n",
              "  {'time': 176.08851623535156, 'score': 0.0, 'source': 'grid-fallback'},\n",
              "  {'time': 195.83709716796875, 'score': 0.0, 'source': 'grid-fallback'},\n",
              "  {'time': 215.2257537841797, 'score': 0.0, 'source': 'grid-fallback'},\n",
              "  {'time': 234.9046630859375, 'score': 0.0, 'source': 'grid-fallback'}]}"
            ]
          },
          "metadata": {},
          "execution_count": 45
        }
      ]
    },
    {
      "cell_type": "code",
      "source": [
        "# 'last_phrase_boundaries': ['02:49', '03:08', '03:27', '03:47'],"
      ],
      "metadata": {
        "id": "HMOmMnqCqNZ8"
      },
      "execution_count": null,
      "outputs": []
    }
  ]
}