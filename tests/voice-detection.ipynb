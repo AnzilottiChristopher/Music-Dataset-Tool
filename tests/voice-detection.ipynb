{
 "cells": [
  {
   "cell_type": "code",
   "execution_count": null,
   "id": "500deec7",
   "metadata": {},
   "outputs": [],
   "source": [
    "# here we are checking if we can detect a voice at a certain instance of the song\n",
    "import webrtcvad \n",
    "import wave\n",
    "import contextlib\n",
    "import os\n",
    "from pydub import AudioSegment\n",
    "AudioSegment.converter = \"/opt/homebrew/bin/ffmpeg\" # this will be different for you"
   ]
  },
  {
   "cell_type": "code",
   "execution_count": 42,
   "id": "526351d4",
   "metadata": {},
   "outputs": [],
   "source": [
    "if not AudioSegment.converter:\n",
    "    raise EnvironmentError(\"ffmpeg not found\")"
   ]
  },
  {
   "cell_type": "code",
   "execution_count": 43,
   "id": "d5a24b6b",
   "metadata": {},
   "outputs": [],
   "source": [
    "base_path = \"../Music/wav_files\"\n",
    "song = \"stargazing-kygo.wav\"\n",
    "song_path = os.path.join(base_path, song)\n",
    "output_path = \"../Music/cleaned_wav_files\""
   ]
  },
  {
   "cell_type": "code",
   "execution_count": 44,
   "id": "0f041676",
   "metadata": {},
   "outputs": [],
   "source": [
    "# we need to clean the wav files first\n",
    "def convert_to_vad_format(base_input_path, base_output_path):\n",
    "    os.makedirs(base_output_path, exist_ok=True)\n",
    "    for filename in os.listdir(base_input_path):\n",
    "        if filename.endswith('.wav'):\n",
    "            song_path = os.path.join(base_input_path, filename)\n",
    "            output_path = os.path.join(base_output_path, filename)\n",
    "            \n",
    "            sound = AudioSegment.from_file(song_path)\n",
    "            sound = sound.set_channels(1)\n",
    "            sound = sound.set_frame_rate(16000)\n",
    "            sound.export(output_path, format=\"wav\", codec=\"pcm_s16le\")\n",
    "            \n",
    "    print(\"done\")"
   ]
  },
  {
   "cell_type": "code",
   "execution_count": 45,
   "id": "f99e5fd0",
   "metadata": {},
   "outputs": [
    {
     "name": "stdout",
     "output_type": "stream",
     "text": [
      "done\n"
     ]
    }
   ],
   "source": [
    "convert_to_vad_format(base_path, output_path)"
   ]
  },
  {
   "cell_type": "code",
   "execution_count": null,
   "id": "1ef3bfba",
   "metadata": {},
   "outputs": [],
   "source": [
    "# the current music we have is not compatible with webrtcvad\n",
    "def check_wav_format(path):\n",
    "    with contextlib.closing(wave.open(path, 'rb')) as wf:\n",
    "        channels = wf.getnchannels()\n",
    "        sample_width = wf.getsampwidth()\n",
    "        sample_rate = wf.getframerate()\n",
    "        n_frames = wf.getnframes()\n",
    "        duration = n_frames / float(sample_rate)\n",
    "\n",
    "        print(f\"Channels: {channels}\")\n",
    "        print(f\"Sample width: {sample_width * 8} bits\")\n",
    "        print(f\"Sample rate: {sample_rate} Hz\")\n",
    "        print(f\"Duration: {duration:.2f} sec\")\n",
    "\n",
    "        ok = (\n",
    "            channels == 1\n",
    "            and sample_width == 2\n",
    "            and sample_rate in (8000, 16000, 32000, 48000)\n",
    "        )\n",
    "        if ok:\n",
    "            print(\"This WAV file is compatible with WebRTC VAD.\")\n",
    "        else:\n",
    "            print(\"Not compatible. You may need to convert it.\")\n",
    "    return ok\n"
   ]
  },
  {
   "cell_type": "code",
   "execution_count": 46,
   "id": "52fb3dbd",
   "metadata": {},
   "outputs": [
    {
     "name": "stdout",
     "output_type": "stream",
     "text": [
      "Channels: 1\n",
      "Sample width: 16 bits\n",
      "Sample rate: 16000 Hz\n",
      "Duration: 236.85 sec\n",
      "This WAV file is compatible with WebRTC VAD.\n"
     ]
    },
    {
     "data": {
      "text/plain": [
       "True"
      ]
     },
     "execution_count": 46,
     "metadata": {},
     "output_type": "execute_result"
    }
   ],
   "source": [
    "# just try a song now\n",
    "results = check_wav_format('../Music/cleaned_wav_files/stargazing-kygo.wav')\n",
    "results"
   ]
  },
  {
   "cell_type": "code",
   "execution_count": 68,
   "id": "c48b6c81",
   "metadata": {},
   "outputs": [],
   "source": [
    "# now we can attempt to check time segments and see if a voice is present\n",
    "def is_speech_at_timestamp(file, timestamp, frame_duration_ms=30, aggressiveness=3):\n",
    "    vad = webrtcvad.Vad(aggressiveness)\n",
    "    vad = webrtcvad.Vad(aggressiveness)\n",
    "\n",
    "    with wave.open(file, 'rb') as wf:\n",
    "        sample_rate = wf.getframerate()\n",
    "        channels = wf.getnchannels()\n",
    "        width = wf.getsampwidth()\n",
    "\n",
    "        assert channels == 1, \"Audio must be mono\"\n",
    "        assert width == 2, \"Must be 16-bit PCM\"\n",
    "        assert sample_rate in (8000, 16000, 32000, 48000), \"Unsupported sample rate\"\n",
    "\n",
    "        frame_bytes = int(sample_rate * (frame_duration_ms / 1000.0) * 2)\n",
    "\n",
    "        frame_index = int(timestamp * 1000 // frame_duration_ms)\n",
    "\n",
    "        wf.setpos(frame_index * int(sample_rate * (frame_duration_ms / 1000.0)))\n",
    "        frame = wf.readframes(int(sample_rate * (frame_duration_ms / 1000.0)))\n",
    "\n",
    "        if len(frame) < frame_bytes:\n",
    "            raise ValueError(\"Timestamp is near the end of the file.\")\n",
    "\n",
    "        return vad.is_speech(frame, sample_rate)"
   ]
  },
  {
   "cell_type": "code",
   "execution_count": null,
   "id": "659d4dc0",
   "metadata": {},
   "outputs": [
    {
     "data": {
      "text/plain": [
       "True"
      ]
     },
     "execution_count": 69,
     "metadata": {},
     "output_type": "execute_result"
    }
   ],
   "source": [
    "is_speech_at_timestamp('../Music/cleaned_wav_files/wakemeup-avicii.wav', 3.22)\n",
    "\n",
    "\n",
    "# THIS IS COMPLETE GARBAGE"
   ]
  }
 ],
 "metadata": {
  "kernelspec": {
   "display_name": "venv",
   "language": "python",
   "name": "python3"
  },
  "language_info": {
   "codemirror_mode": {
    "name": "ipython",
    "version": 3
   },
   "file_extension": ".py",
   "mimetype": "text/x-python",
   "name": "python",
   "nbconvert_exporter": "python",
   "pygments_lexer": "ipython3",
   "version": "3.13.7"
  }
 },
 "nbformat": 4,
 "nbformat_minor": 5
}
